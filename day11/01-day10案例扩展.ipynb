{
 "cells": [
  {
   "cell_type": "code",
   "execution_count": 35,
   "metadata": {
    "collapsed": true
   },
   "outputs": [],
   "source": [
    "from pandas import read_csv #pandas读取csv\n",
    "from sklearn.model_selection import train_test_split #数据集划分\n",
    "from sklearn.linear_model import LogisticRegression #逻辑回归"
   ]
  },
  {
   "cell_type": "code",
   "execution_count": 36,
   "outputs": [],
   "source": [
    "filename = \"data/sonar.all-data.csv\"\n",
    "dataset = read_csv(filename,header=None) #导入csv"
   ],
   "metadata": {
    "collapsed": false
   }
  },
  {
   "cell_type": "code",
   "execution_count": 37,
   "outputs": [],
   "source": [
    "array = dataset.values"
   ],
   "metadata": {
    "collapsed": false
   }
  },
  {
   "cell_type": "code",
   "execution_count": 38,
   "outputs": [],
   "source": [
    "x = array[:,0:60].astype(float) #样本"
   ],
   "metadata": {
    "collapsed": false
   }
  },
  {
   "cell_type": "code",
   "execution_count": 51,
   "outputs": [
    {
     "data": {
      "text/plain": "array(['R', 'R', 'R', 'R', 'R', 'R', 'R', 'R', 'R', 'R', 'R', 'R', 'R',\n       'R', 'R', 'R', 'R', 'R', 'R', 'R', 'R', 'R', 'R', 'R', 'R', 'R',\n       'R', 'R', 'R', 'R', 'R', 'R', 'R', 'R', 'R', 'R', 'R', 'R', 'R',\n       'R', 'R', 'R', 'R', 'R', 'R', 'R', 'R', 'R', 'R', 'R', 'R', 'R',\n       'R', 'R', 'R', 'R', 'R', 'R', 'R', 'R', 'R', 'R', 'R', 'R', 'R',\n       'R', 'R', 'R', 'R', 'R', 'R', 'R', 'R', 'R', 'R', 'R', 'R', 'R',\n       'R', 'R', 'R', 'R', 'R', 'R', 'R', 'R', 'R', 'R', 'R', 'R', 'R',\n       'R', 'R', 'R', 'R', 'R', 'R', 'M', 'M', 'M', 'M', 'M', 'M', 'M',\n       'M', 'M', 'M', 'M', 'M', 'M', 'M', 'M', 'M', 'M', 'M', 'M', 'M',\n       'M', 'M', 'M', 'M', 'M', 'M', 'M', 'M', 'M', 'M', 'M', 'M', 'M',\n       'M', 'M', 'M', 'M', 'M', 'M', 'M', 'M', 'M', 'M', 'M', 'M', 'M',\n       'M', 'M', 'M', 'M', 'M', 'M', 'M', 'M', 'M', 'M', 'M', 'M', 'M',\n       'M', 'M', 'M', 'M', 'M', 'M', 'M', 'M', 'M', 'M', 'M', 'M', 'M',\n       'M', 'M', 'M', 'M', 'M', 'M', 'M', 'M', 'M', 'M', 'M', 'M', 'M',\n       'M', 'M', 'M', 'M', 'M', 'M', 'M', 'M', 'M', 'M', 'M', 'M', 'M',\n       'M', 'M', 'M', 'M', 'M', 'M', 'M', 'M', 'M', 'M', 'M', 'M', 'M'],\n      dtype=object)"
     },
     "execution_count": 51,
     "metadata": {},
     "output_type": "execute_result"
    }
   ],
   "source": [
    "y = array[:,60] #标签target"
   ],
   "metadata": {
    "collapsed": false
   }
  },
  {
   "cell_type": "code",
   "execution_count": 40,
   "outputs": [],
   "source": [
    "x_train,x_test,y_train,y_test = train_test_split(x,y,test_size=0.2,random_state=10) #样本划分"
   ],
   "metadata": {
    "collapsed": false
   }
  },
  {
   "cell_type": "code",
   "execution_count": 41,
   "outputs": [
    {
     "data": {
      "text/plain": "LogisticRegression(C=1.0, class_weight=None, dual=False, fit_intercept=True,\n          intercept_scaling=1, max_iter=100, multi_class='ovr', n_jobs=1,\n          penalty='l2', random_state=None, solver='liblinear', tol=0.0001,\n          verbose=0, warm_start=False)"
     },
     "execution_count": 41,
     "metadata": {},
     "output_type": "execute_result"
    }
   ],
   "source": [
    "log_reg = LogisticRegression()\n",
    "log_reg.fit(x_train,y_train)"
   ],
   "metadata": {
    "collapsed": false
   }
  },
  {
   "cell_type": "code",
   "execution_count": 42,
   "outputs": [
    {
     "data": {
      "text/plain": "0.8253012048192772"
     },
     "execution_count": 42,
     "metadata": {},
     "output_type": "execute_result"
    }
   ],
   "source": [
    "log_reg.score(x_train,y_train)"
   ],
   "metadata": {
    "collapsed": false
   }
  },
  {
   "cell_type": "code",
   "execution_count": 43,
   "outputs": [
    {
     "data": {
      "text/plain": "0.6666666666666666"
     },
     "execution_count": 43,
     "metadata": {},
     "output_type": "execute_result"
    }
   ],
   "source": [
    "log_reg.score(x_test,y_test)"
   ],
   "metadata": {
    "collapsed": false
   }
  },
  {
   "cell_type": "code",
   "execution_count": 44,
   "outputs": [],
   "source": [
    "y_predict = log_reg.predict(x_test)"
   ],
   "metadata": {
    "collapsed": false
   }
  },
  {
   "cell_type": "code",
   "execution_count": 45,
   "outputs": [],
   "source": [
    "from sklearn.metrics import accuracy_score,precision_score,recall_score,confusion_matrix"
   ],
   "metadata": {
    "collapsed": false
   }
  },
  {
   "cell_type": "code",
   "execution_count": 46,
   "outputs": [
    {
     "data": {
      "text/plain": "0.6666666666666666"
     },
     "execution_count": 46,
     "metadata": {},
     "output_type": "execute_result"
    }
   ],
   "source": [
    "accuracy_score(y_test,y_predict)"
   ],
   "metadata": {
    "collapsed": false
   }
  },
  {
   "cell_type": "code",
   "execution_count": 47,
   "outputs": [
    {
     "data": {
      "text/plain": "array([[13,  5],\n       [ 9, 15]], dtype=int64)"
     },
     "execution_count": 47,
     "metadata": {},
     "output_type": "execute_result"
    }
   ],
   "source": [
    "mat = confusion_matrix(y_test,y_predict) #混淆矩阵\n",
    "mat"
   ],
   "metadata": {
    "collapsed": false
   }
  },
  {
   "cell_type": "code",
   "execution_count": 48,
   "outputs": [
    {
     "data": {
      "text/plain": "0.75"
     },
     "execution_count": 48,
     "metadata": {},
     "output_type": "execute_result"
    }
   ],
   "source": [
    "tn,fp,fn,tp = mat[0,0],mat[0,1],mat[1,0],mat[1,1]\n",
    "pre_score = tp/(tp+fp)\n",
    "pre_score"
   ],
   "metadata": {
    "collapsed": false
   }
  },
  {
   "cell_type": "code",
   "execution_count": 49,
   "outputs": [
    {
     "data": {
      "text/plain": "0.625"
     },
     "execution_count": 49,
     "metadata": {},
     "output_type": "execute_result"
    }
   ],
   "source": [
    "rec_score = tp/(fn+tp)\n",
    "rec_score"
   ],
   "metadata": {
    "collapsed": false
   }
  },
  {
   "cell_type": "code",
   "execution_count": 50,
   "outputs": [
    {
     "data": {
      "text/plain": "0.6666666666666666"
     },
     "execution_count": 50,
     "metadata": {},
     "output_type": "execute_result"
    }
   ],
   "source": [
    "acc_score = (tp+tn)/(tn+fp+fn+tp)\n",
    "acc_score"
   ],
   "metadata": {
    "collapsed": false
   }
  },
  {
   "cell_type": "markdown",
   "source": [
    "## 以上是day10的案例,往下是扩展功能学习"
   ],
   "metadata": {
    "collapsed": false
   }
  },
  {
   "cell_type": "code",
   "execution_count": 52,
   "outputs": [],
   "source": [
    "from sklearn.model_selection import GridSearchCV  #网格搜索\n",
    "from sklearn.linear_model import LogisticRegression #逻辑回归\n",
    "from sklearn.neighbors import KNeighborsClassifier #近邻算法\n",
    "from sklearn.pipeline import Pipeline #自动化流水线\n",
    "from sklearn.preprocessing import StandardScaler #数据标准化函数\n",
    "from sklearn.model_selection import KFold # K折验证\n",
    "from sklearn.model_selection import cross_val_score #交叉验证"
   ],
   "metadata": {
    "collapsed": false
   }
  },
  {
   "cell_type": "code",
   "execution_count": 54,
   "outputs": [],
   "source": [
    "piplines = {} #声明一个字典\n",
    "piplines['scalerKNN'] = Pipeline([('scaler',StandardScaler()),('knn',KNeighborsClassifier())]) #装配近邻流水线\n",
    "piplines['scalerLR'] = Pipeline([('scaler',StandardScaler()),('lr',LogisticRegression())]) #装配逻辑回归流水线"
   ],
   "metadata": {
    "collapsed": false
   }
  },
  {
   "cell_type": "code",
   "execution_count": 57,
   "outputs": [
    {
     "name": "stdout",
     "output_type": "stream",
     "text": [
      "scalerKNN ：0.788971\n",
      "[0.82352941 0.94117647 0.70588235 0.64705882 0.88235294 0.76470588\n",
      " 0.8125     0.6875     0.6875     0.9375    ]\n",
      "scalerLR ：0.801838\n",
      "[0.70588235 0.94117647 0.64705882 0.82352941 0.88235294 0.70588235\n",
      " 0.875      0.875      0.875      0.6875    ]\n"
     ]
    }
   ],
   "source": [
    "results = [] #存放模型结果\n",
    "for key in piplines:\n",
    "    kfold = KFold(n_splits=10,random_state=7) #设置k折验证\n",
    "    #cv_results = cross_val_score(模型估计器,样本,标签,几折验证,评价标准)\n",
    "    cv_results = cross_val_score(piplines[key],x_train,y_train,cv=kfold,scoring='accuracy')\n",
    "    results.append(cv_results)\n",
    "    print(\"%s ：%f\"%(key,cv_results.mean()))\n",
    "    print(cv_results)"
   ],
   "metadata": {
    "collapsed": false
   }
  },
  {
   "cell_type": "code",
   "execution_count": 60,
   "outputs": [
    {
     "data": {
      "text/plain": "array([[-0.4139438 , -0.00917829, -0.13996882, ..., -0.5476745 ,\n        -0.5638001 , -0.23447559],\n       [-0.89825301, -1.04474734, -0.91565767, ..., -0.26689339,\n        -0.38048476, -0.69374341],\n       [-0.39633256,  0.07711913,  0.29523614, ...,  2.09757908,\n         1.8192994 ,  0.5692431 ],\n       ...,\n       [ 0.03074011,  0.64846758,  0.54099894, ..., -0.48856268,\n         1.98594972,  0.12911144],\n       [-0.27745666,  1.35670159,  1.43700915, ...,  0.16166724,\n        -1.14707621, -0.57892646],\n       [-0.55923657, -0.66682415, -0.2346899 , ..., -0.69545403,\n        -0.41381482, -0.50238182]])"
     },
     "execution_count": 60,
     "metadata": {},
     "output_type": "execute_result"
    }
   ],
   "source": [
    "rescaler = StandardScaler().fit_transform(x_train) #标准化数据\n",
    "rescaler"
   ],
   "metadata": {
    "collapsed": false
   }
  },
  {
   "cell_type": "code",
   "execution_count": 106,
   "outputs": [
    {
     "name": "stdout",
     "output_type": "stream",
     "text": [
      "最优：0.8433734939759037,使用：{'n_neighbors': 1}\n"
     ]
    }
   ],
   "source": [
    "#处理超参数，优化超参数，模型参数\n",
    "param_gd = {'n_neighbors':[3,5,7,9,1,11,13,15]} #查找比较哪种数量的邻居更好，这是超参数\n",
    "kfold = KFold(n_splits=10,random_state=7) #设置k折验证\n",
    "model = KNeighborsClassifier() #模型使用knn\n",
    "#grid = 网格搜索(estimator=模型,param_grid=参数,scoring=评价标准,cv=几折验证)\n",
    "#https://blog.csdn.net/u012969412/article/details/72973055\n",
    "grid = GridSearchCV(estimator=model,param_grid=param_gd,scoring='accuracy',cv=kfold)\n",
    "grid_result = grid.fit(X=rescaler,y=y_train) #使用网格搜索进行拟合数据\n",
    "print('最优：%s,使用：%s'%(grid_result.best_score_,grid_result.best_params_))"
   ],
   "metadata": {
    "collapsed": false
   }
  },
  {
   "cell_type": "code",
   "execution_count": 131,
   "outputs": [
    {
     "name": "stdout",
     "output_type": "stream",
     "text": [
      "最优：0.8012048192771084,使用：{'solver': 'lbfgs'}\n"
     ]
    }
   ],
   "source": [],
   "metadata": {
    "collapsed": false
   }
  },
  {
   "cell_type": "code",
   "execution_count": null,
   "outputs": [],
   "source": [],
   "metadata": {
    "collapsed": false
   }
  },
  {
   "cell_type": "code",
   "execution_count": 146,
   "outputs": [
    {
     "data": {
      "text/plain": "<matplotlib.figure.Figure at 0x237c5d53278>",
      "image/png": "[encoded data removed]"
     },
     "metadata": {},
     "output_type": "display_data"
    }
   ],
   "source": [
    "import matplotlib.pyplot as plt # 可视化\n",
    "import numpy as np\n",
    "y = np.array([0,1,2,3,4,5,6,7,8,9,10,11,12,13,14,15,16,17,18,19,20,21,22,23,24,25,26,27,28,29,30,31,32,33,34,35,36,37,38,39,40,41,42,43,44,45,46,47,48,49,50,51,52,53,54,55,56,57,58,59])\n",
    "# plt.scatter(y,rescaler[0:60,3]) #散点图\n",
    "plt.scatter(rescaler[:,0],rescaler[:,1]) #散点图\n",
    "plt.show()\n",
    "# rescaler[0:60,0].shape"
   ],
   "metadata": {
    "collapsed": false
   }
  },
  {
   "cell_type": "code",
   "execution_count": null,
   "outputs": [],
   "source": [],
   "metadata": {
    "collapsed": false
   }
  }
 ],
 "metadata": {
  "kernelspec": {
   "display_name": "Python 3",
   "language": "python",
   "name": "python3"
  },
  "language_info": {
   "codemirror_mode": {
    "name": "ipython",
    "version": 2
   },
   "file_extension": ".py",
   "mimetype": "text/x-python",
   "name": "python",
   "nbconvert_exporter": "python",
   "pygments_lexer": "ipython2",
   "version": "2.7.6"
  }
 },
 "nbformat": 4,
 "nbformat_minor": 0
}
