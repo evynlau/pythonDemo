{
 "cells": [
  {
   "cell_type": "code",
   "execution_count": 1,
   "metadata": {
    "collapsed": true
   },
   "outputs": [
    {
     "ename": "ModuleNotFoundError",
     "evalue": "No module named 'diffusers_paddle'",
     "output_type": "error",
     "traceback": [
      "\u001B[1;31m---------------------------------------------------------------------------\u001B[0m",
      "\u001B[1;31mModuleNotFoundError\u001B[0m                       Traceback (most recent call last)",
      "\u001B[1;32m<ipython-input-1-0e2b61119128>\u001B[0m in \u001B[0;36m<module>\u001B[1;34m()\u001B[0m\n\u001B[0;32m      1\u001B[0m \u001B[1;33m\u001B[0m\u001B[0m\n\u001B[0;32m      2\u001B[0m \u001B[1;31m# 如果第一次运行下面报错, 就重启内核重新运行一次\u001B[0m\u001B[1;33m\u001B[0m\u001B[1;33m\u001B[0m\u001B[0m\n\u001B[1;32m----> 3\u001B[1;33m \u001B[1;32mfrom\u001B[0m \u001B[0mdiffusers_paddle\u001B[0m \u001B[1;32mimport\u001B[0m \u001B[0mStableDiffusionPipelineAllinOne\u001B[0m\u001B[1;33m\u001B[0m\u001B[0m\n\u001B[0m\u001B[0;32m      4\u001B[0m \u001B[1;32mimport\u001B[0m \u001B[0mpaddle\u001B[0m\u001B[1;33m\u001B[0m\u001B[0m\n\u001B[0;32m      5\u001B[0m \u001B[1;32mfrom\u001B[0m \u001B[0mutils\u001B[0m \u001B[1;32mimport\u001B[0m \u001B[0msave_image_info\u001B[0m\u001B[1;33m,\u001B[0m \u001B[0mmodel_vae_get_default\u001B[0m\u001B[1;33m,\u001B[0m \u001B[0mmodel_get_available\u001B[0m\u001B[1;33m,\u001B[0m \u001B[0mcontext_nologging\u001B[0m\u001B[1;33m\u001B[0m\u001B[0m\n",
      "\u001B[1;31mModuleNotFoundError\u001B[0m: No module named 'diffusers_paddle'"
     ]
    }
   ],
   "source": [
    "\n",
    "# 如果第一次运行下面报错, 就重启内核重新运行一次\n",
    "from diffusers_paddle import StableDiffusionPipelineAllinOne\n",
    "import paddle\n",
    "from utils import save_image_info, model_vae_get_default, model_get_available, context_nologging\n",
    "import os\n",
    "_ = paddle.zeros((1, ))\n",
    "with context_nologging():\n",
    "    pipe = StableDiffusionPipelineAllinOne.from_pretrained(model_get_available()[0][0][1], safety_checker = None)\n",
    "\n",
    "vae_path = model_vae_get_default(model_get_available()[0][0][1])\n",
    "if len(vae_path): pipe.vae.load_dict(paddle.load(vae_path[0][1])) # 换用更好的 vae (有效果!)\n",
    "\n",
    "print('加载完毕')"
   ]
  }
 ],
 "metadata": {
  "kernelspec": {
   "display_name": "Python 3",
   "language": "python",
   "name": "python3"
  },
  "language_info": {
   "codemirror_mode": {
    "name": "ipython",
    "version": 2
   },
   "file_extension": ".py",
   "mimetype": "text/x-python",
   "name": "python",
   "nbconvert_exporter": "python",
   "pygments_lexer": "ipython2",
   "version": "2.7.6"
  }
 },
 "nbformat": 4,
 "nbformat_minor": 0
}
