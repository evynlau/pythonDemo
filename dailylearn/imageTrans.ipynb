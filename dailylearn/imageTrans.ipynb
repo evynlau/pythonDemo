{
 "cells": [
  {
   "cell_type": "code",
   "execution_count": 14,
   "metadata": {},
   "outputs": [],
   "source": [
    "from PIL import Image\n",
    "import cv2\n",
    "import numpy as np"
   ]
  },
  {
   "cell_type": "code",
   "execution_count": 15,
   "metadata": {},
   "outputs": [],
   "source": [
    "# Load the image\n",
    "input_path = r\"C:\\Users\\RS8636\\Pictures\\微信图片_20240614163124.jpg\"\n",
    "image = Image.open(input_path)"
   ]
  },
  {
   "cell_type": "code",
   "execution_count": 16,
   "metadata": {},
   "outputs": [
    {
     "data": {
      "text/plain": "'C:\\\\Users\\\\RS8636\\\\Pictures\\\\1112.jpg'"
     },
     "execution_count": 16,
     "metadata": {},
     "output_type": "execute_result"
    }
   ],
   "source": [
    "# Convert the image to a format OpenCV can work with\n",
    "image = np.array(image)\n",
    "\n",
    "# Convert to grayscale\n",
    "gray_image = cv2.cvtColor(image, cv2.COLOR_BGR2GRAY)\n",
    "\n",
    "# Apply median blur to reduce noise\n",
    "gray_image = cv2.medianBlur(gray_image, 5)\n",
    "\n",
    "# Detect edges using adaptive thresholding\n",
    "edges = cv2.adaptiveThreshold(\n",
    "    gray_image, 255,\n",
    "    cv2.ADAPTIVE_THRESH_MEAN_C,\n",
    "    cv2.THRESH_BINARY,\n",
    "    blockSize=9,\n",
    "    C=2\n",
    ")\n",
    "\n",
    "# Convert back to color, so the edges are in the alpha channel\n",
    "edges_colored = cv2.cvtColor(edges, cv2.COLOR_GRAY2BGR)\n",
    "\n",
    "# Reduce the color palette of the image\n",
    "num_colors = 25  # Number of colors to reduce the image to\n",
    "data = np.float32(image).reshape((-1, 3))\n",
    "\n",
    "# Define criteria, number of clusters(K) and apply kmeans()\n",
    "criteria = (cv2.TERM_CRITERIA_EPS + cv2.TERM_CRITERIA_MAX_ITER, 100, 0.2)\n",
    "K = num_colors\n",
    "_, label, center = cv2.kmeans(data, K, None, criteria, 10, cv2.KMEANS_RANDOM_CENTERS)\n",
    "\n",
    "# Convert back to 8 bit values\n",
    "center = np.uint8(center)\n",
    "result = center[label.flatten()]\n",
    "result = result.reshape(image.shape)\n",
    "\n",
    "# Combine the color-reduced image with the edges\n",
    "cartoon_image = cv2.bitwise_and(result, edges_colored)\n",
    "\n",
    "# Save the result\n",
    "output_path = r\"C:\\Users\\RS8636\\Pictures\\1112.jpg\"\n",
    "cv2.imwrite(output_path, cartoon_image)\n",
    "\n",
    "output_path"
   ]
  },
  {
   "cell_type": "code",
   "execution_count": 16,
   "metadata": {},
   "outputs": [],
   "source": []
  },
  {
   "cell_type": "code",
   "execution_count": 16,
   "metadata": {},
   "outputs": [],
   "source": []
  },
  {
   "cell_type": "code",
   "execution_count": 16,
   "metadata": {},
   "outputs": [],
   "source": []
  }
 ],
 "metadata": {
  "kernelspec": {
   "display_name": "Python 3 (ipykernel)",
   "language": "python",
   "name": "python3"
  },
  "language_info": {
   "codemirror_mode": {
    "name": "ipython",
    "version": 3
   },
   "file_extension": ".py",
   "mimetype": "text/x-python",
   "name": "python",
   "nbconvert_exporter": "python",
   "pygments_lexer": "ipython3",
   "version": "3.10.7"
  }
 },
 "nbformat": 4,
 "nbformat_minor": 1
}
