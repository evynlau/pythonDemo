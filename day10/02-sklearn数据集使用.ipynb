{
 "cells": [
  {
   "cell_type": "code",
   "execution_count": 394,
   "metadata": {
    "collapsed": true
   },
   "outputs": [],
   "source": [
    "import numpy as np\n",
    "import matplotlib.pyplot as plt\n",
    "from sklearn import datasets #使用sklearn中的数据集：手写"
   ]
  },
  {
   "cell_type": "code",
   "execution_count": 395,
   "outputs": [],
   "source": [
    "digits = datasets.load_digits()  #手写字体\n",
    "# print(digits.DESCR)\n",
    "x = digits.data # x 样本数据\n",
    "y = digits.target # y 标签数据\n",
    "y_name = digits.target_names"
   ],
   "metadata": {
    "collapsed": false
   }
  },
  {
   "cell_type": "code",
   "execution_count": 396,
   "outputs": [
    {
     "data": {
      "text/plain": "array([ 0.,  0.,  0.,  0., 11., 12.,  0.,  0.,  0.,  0.,  0.,  3., 15.,\n       14.,  0.,  0.,  0.,  0.,  0., 11., 16., 11.,  0.,  0.,  0.,  0.,\n        9., 16., 16., 10.,  0.,  0.,  0.,  4., 16., 12., 16., 12.,  0.,\n        0.,  0.,  3., 10.,  3., 16., 11.,  0.,  0.,  0.,  0.,  0.,  0.,\n       16., 14.,  0.,  0.,  0.,  0.,  0.,  0., 11., 11.,  0.,  0.])"
     },
     "execution_count": 396,
     "metadata": {},
     "output_type": "execute_result"
    }
   ],
   "source": [
    "some_digit = x[200]  #选取第200个样本\n",
    "some_digit"
   ],
   "metadata": {
    "collapsed": false
   }
  },
  {
   "cell_type": "code",
   "execution_count": 397,
   "outputs": [
    {
     "data": {
      "text/plain": "array([[ 0.,  0.,  0.,  0., 11., 12.,  0.,  0.],\n       [ 0.,  0.,  0.,  3., 15., 14.,  0.,  0.],\n       [ 0.,  0.,  0., 11., 16., 11.,  0.,  0.],\n       [ 0.,  0.,  9., 16., 16., 10.,  0.,  0.],\n       [ 0.,  4., 16., 12., 16., 12.,  0.,  0.],\n       [ 0.,  3., 10.,  3., 16., 11.,  0.,  0.],\n       [ 0.,  0.,  0.,  0., 16., 14.,  0.,  0.],\n       [ 0.,  0.,  0.,  0., 11., 11.,  0.,  0.]])"
     },
     "execution_count": 397,
     "metadata": {},
     "output_type": "execute_result"
    }
   ],
   "source": [
    "some_digit_image = some_digit.reshape(8,8)  #样本数据形状转换\n",
    "some_digit_image"
   ],
   "metadata": {
    "collapsed": false
   }
  },
  {
   "cell_type": "code",
   "execution_count": 398,
   "outputs": [],
   "source": [
    "import matplotlib"
   ],
   "metadata": {
    "collapsed": false
   }
  },
  {
   "cell_type": "code",
   "execution_count": 399,
   "outputs": [
    {
     "data": {
      "text/plain": "<matplotlib.figure.Figure at 0x25a3172f588>",
      "image/png": "[encoded data removed]"
     },
     "metadata": {},
     "output_type": "display_data"
    }
   ],
   "source": [
    "plt.imshow(some_digit_image,cmap=matplotlib.cm.binary) #图谱选取 将第200个样本数据形状转换后转成图谱显示\n",
    "plt.show()"
   ],
   "metadata": {
    "collapsed": false
   }
  },
  {
   "cell_type": "code",
   "execution_count": 400,
   "outputs": [
    {
     "data": {
      "text/plain": "1"
     },
     "execution_count": 400,
     "metadata": {},
     "output_type": "execute_result"
    }
   ],
   "source": [
    "y[200]  #查看第200个样本数据所对应的目标值"
   ],
   "metadata": {
    "collapsed": false
   }
  },
  {
   "cell_type": "code",
   "execution_count": 401,
   "outputs": [],
   "source": [
    "#导入算法以及数据的划分\n",
    "from sklearn.neighbors import KNeighborsClassifier  #knn近邻算法分类\n",
    "from sklearn.model_selection import train_test_split #划分数据集"
   ],
   "metadata": {
    "collapsed": false
   }
  },
  {
   "cell_type": "code",
   "execution_count": 402,
   "outputs": [],
   "source": [
    "x_train,x_test,y_train,y_test = train_test_split(x,y)"
   ],
   "metadata": {
    "collapsed": false
   }
  },
  {
   "cell_type": "code",
   "execution_count": 403,
   "outputs": [
    {
     "data": {
      "text/plain": "(1347, 64)"
     },
     "execution_count": 403,
     "metadata": {},
     "output_type": "execute_result"
    }
   ],
   "source": [
    "x_train.shape #训练样本数量"
   ],
   "metadata": {
    "collapsed": false
   }
  },
  {
   "cell_type": "code",
   "execution_count": 404,
   "outputs": [
    {
     "data": {
      "text/plain": "(450, 64)"
     },
     "execution_count": 404,
     "metadata": {},
     "output_type": "execute_result"
    }
   ],
   "source": [
    "x_test.shape #测试数据数量"
   ],
   "metadata": {
    "collapsed": false
   }
  },
  {
   "cell_type": "code",
   "execution_count": 405,
   "outputs": [],
   "source": [
    "x_train,x_test,y_train,y_test = train_test_split(x,y,test_size=0.2,random_state=99)\n",
    "#test_size 训练和测试数据划分比例 random_state随机值，影响训练得分"
   ],
   "metadata": {
    "collapsed": false
   }
  },
  {
   "cell_type": "code",
   "execution_count": 406,
   "outputs": [
    {
     "name": "stdout",
     "output_type": "stream",
     "text": [
      "(1437, 64)\n",
      "(360, 64)\n"
     ]
    }
   ],
   "source": [
    "print(x_train.shape)\n",
    "print(x_test.shape)"
   ],
   "metadata": {
    "collapsed": false
   }
  },
  {
   "cell_type": "code",
   "execution_count": 407,
   "outputs": [
    {
     "data": {
      "text/plain": "KNeighborsClassifier(algorithm='auto', leaf_size=30, metric='minkowski',\n           metric_params=None, n_jobs=1, n_neighbors=5, p=2,\n           weights='uniform')"
     },
     "execution_count": 407,
     "metadata": {},
     "output_type": "execute_result"
    }
   ],
   "source": [
    "knn_clf = KNeighborsClassifier()\n",
    "knn_clf.fit(x_train,y_train)"
   ],
   "metadata": {
    "collapsed": false
   }
  },
  {
   "cell_type": "code",
   "execution_count": 408,
   "outputs": [
    {
     "data": {
      "text/plain": "0.9944444444444445"
     },
     "execution_count": 408,
     "metadata": {},
     "output_type": "execute_result"
    }
   ],
   "source": [
    "knn_clf.score(x_test,y_test) #准确率"
   ],
   "metadata": {
    "collapsed": false
   }
  },
  {
   "cell_type": "code",
   "execution_count": 409,
   "outputs": [
    {
     "data": {
      "text/plain": "array([8, 8, 0, 5, 3, 5, 3, 6, 7, 2, 4, 6, 5, 0, 7, 0, 9, 4, 7, 3, 5, 9,\n       0, 4, 5, 1, 4, 0, 2, 1, 3, 1, 5, 2, 0, 9, 7, 6, 4, 4, 2, 5, 3, 7,\n       3, 4, 7, 8, 8, 7, 3, 8, 3, 0, 3, 8, 9, 9, 3, 2, 3, 7, 2, 6, 3, 7,\n       1, 2, 4, 6, 6, 2, 7, 7, 2, 2, 0, 5, 3, 1, 4, 9, 6, 7, 6, 3, 5, 7,\n       7, 6, 7, 7, 8, 6, 7, 1, 0, 1, 0, 8, 6, 4, 4, 1, 9, 0, 4, 1, 1, 9,\n       1, 6, 1, 1, 5, 1, 0, 8, 7, 7, 3, 6, 9, 3, 6, 4, 6, 3, 3, 5, 3, 3,\n       9, 9, 3, 1, 6, 8, 6, 4, 2, 5, 7, 9, 7, 8, 0, 6, 2, 6, 7, 9, 8, 2,\n       9, 3, 2, 2, 8, 0, 8, 0, 3, 8, 7, 1, 5, 0, 2, 1, 0, 4, 2, 2, 8, 2,\n       7, 7, 7, 3, 2, 9, 6, 7, 5, 8, 9, 8, 9, 5, 1, 6, 9, 4, 0, 8, 2, 8,\n       0, 6, 5, 6, 6, 6, 8, 0, 1, 4, 5, 8, 3, 0, 7, 7, 2, 5, 7, 2, 3, 4,\n       2, 6, 6, 2, 7, 6, 0, 5, 0, 9, 2, 7, 4, 1, 8, 7, 0, 1, 9, 6, 5, 9,\n       1, 9, 0, 4, 0, 5, 4, 3, 4, 0, 0, 1, 6, 7, 8, 9, 7, 5, 6, 3, 5, 7,\n       5, 2, 7, 1, 5, 3, 0, 7, 0, 3, 2, 4, 3, 2, 6, 8, 7, 1, 3, 1, 5, 6,\n       5, 5, 1, 6, 5, 3, 7, 6, 2, 3, 0, 2, 9, 5, 1, 2, 7, 2, 5, 8, 9, 7,\n       2, 2, 4, 2, 2, 9, 6, 5, 0, 7, 8, 7, 0, 6, 4, 2, 4, 7, 6, 3, 0, 3,\n       4, 5, 2, 5, 9, 0, 2, 8, 2, 7, 2, 5, 8, 3, 9, 0, 9, 6, 3, 1, 8, 6,\n       8, 0, 5, 3, 3, 8, 0, 6])"
     },
     "execution_count": 409,
     "metadata": {},
     "output_type": "execute_result"
    }
   ],
   "source": [
    "y_predict =knn_clf.predict(x_test) #根据测试数据预测出来的结果\n",
    "y_predict"
   ],
   "metadata": {
    "collapsed": false
   }
  },
  {
   "cell_type": "code",
   "execution_count": 410,
   "outputs": [
    {
     "name": "stdout",
     "output_type": "stream",
     "text": [
      "准确度: 0.9944444444444445\n",
      "混淆矩阵:\n",
      " [[38  0  0  0  0  0  0  0  0  0]\n",
      " [ 0 29  0  0  0  0  0  0  0  0]\n",
      " [ 0  0 42  0  0  0  0  0  0  0]\n",
      " [ 0  0  0 40  0  0  0  0  0  0]\n",
      " [ 0  0  0  0 27  0  0  1  0  0]\n",
      " [ 0  0  0  0  0 35  0  0  0  0]\n",
      " [ 0  0  0  0  0  0 41  0  0  0]\n",
      " [ 0  0  0  0  0  0  0 45  0  0]\n",
      " [ 0  0  0  0  0  0  0  0 32  0]\n",
      " [ 0  0  0  0  0  1  0  0  0 29]]\n"
     ]
    }
   ],
   "source": [
    "#从skleearn库中导入需要用到的计算公式函数\n",
    "from sklearn.metrics import accuracy_score  #准确度得分\n",
    "from sklearn.metrics import confusion_matrix #混淆矩阵 (混淆矩阵一般用在二分类情况下)\n",
    "from sklearn.metrics import precision_score #精准率\n",
    "from sklearn.metrics import recall_score #召回率\n",
    "\n",
    "acc = accuracy_score(y_test,y_predict)\n",
    "print(\"准确度:\",acc)\n",
    "\n",
    "conf_mat = confusion_matrix(y_test,y_predict)\n",
    "print(\"混淆矩阵:\\n\",conf_mat)\n",
    "\n",
    "##以下只适用于二分类，当前为十分类 运行会报错\n",
    "# prec = precision_score(y_test,y_predict)\n",
    "# print(\"精准率\",prec)\n",
    "# reca = recall_score(y_test,y_predict)\n",
    "# print(\"召回率\",reca)"
   ],
   "metadata": {
    "collapsed": false
   }
  },
  {
   "cell_type": "code",
   "execution_count": 411,
   "outputs": [
    {
     "data": {
      "text/plain": "0.988169798190675"
     },
     "execution_count": 411,
     "metadata": {},
     "output_type": "execute_result"
    }
   ],
   "source": [
    "#过拟合？欠拟合？拟合正好\n",
    "#过拟合  训练好，测试不好   （泛化能力弱 可能考虑过多包括了噪声）\n",
    "#欠拟合  训练不好，测试不好\n",
    "# https://zhuanlan.zhihu.com/p/72038532?ivk_sa=1024320u\n",
    "#如果要判断拟合的情况，必须比较训练数据和测试数据集的准确度得分\n",
    "#训练数据集的得分\n",
    "y_train_pre = knn_clf.predict(x_train)\n",
    "accuracy_score(y_train,y_train_pre) #训练得分"
   ],
   "metadata": {
    "collapsed": false
   }
  },
  {
   "cell_type": "code",
   "execution_count": 413,
   "outputs": [
    {
     "data": {
      "text/plain": "0.9944444444444445"
     },
     "execution_count": 413,
     "metadata": {},
     "output_type": "execute_result"
    }
   ],
   "source": [
    "#测试数据集的得分\n",
    "y_test_pre = knn_clf.predict(x_test)\n",
    "accuracy_score(y_test,y_test_pre) #测试得分"
   ],
   "metadata": {
    "collapsed": false
   }
  },
  {
   "cell_type": "code",
   "execution_count": 423,
   "outputs": [
    {
     "data": {
      "text/plain": "<matplotlib.figure.Figure at 0x25a3053dfd0>",
      "image/png": "[encoded data removed]"
     },
     "metadata": {},
     "output_type": "display_data"
    }
   ],
   "source": [
    "plt.scatter(y_test,y_predict)\n",
    "plt.show()"
   ],
   "metadata": {
    "collapsed": false
   }
  },
  {
   "cell_type": "code",
   "execution_count": null,
   "outputs": [],
   "source": [],
   "metadata": {
    "collapsed": false
   }
  }
 ],
 "metadata": {
  "kernelspec": {
   "display_name": "Python 3",
   "language": "python",
   "name": "python3"
  },
  "language_info": {
   "codemirror_mode": {
    "name": "ipython",
    "version": 2
   },
   "file_extension": ".py",
   "mimetype": "text/x-python",
   "name": "python",
   "nbconvert_exporter": "python",
   "pygments_lexer": "ipython2",
   "version": "2.7.6"
  }
 },
 "nbformat": 4,
 "nbformat_minor": 0
}
