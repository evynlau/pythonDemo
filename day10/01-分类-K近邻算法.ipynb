{
 "cells": [
  {
   "cell_type": "code",
   "execution_count": 51,
   "metadata": {
    "collapsed": true
   },
   "outputs": [],
   "source": [
    "import numpy as np\n",
    "x_train = [[3.3,2.3],  #样本数据\n",
    "           [3.1,1.7],\n",
    "           [1.3,3.3],\n",
    "           [3.5,4.6],\n",
    "           [2.2,2.8],\n",
    "           [7.4,4.6],\n",
    "           [5.7,3.5],\n",
    "           [9.1,2.5],\n",
    "           [7.7,3.4],\n",
    "           [7.9,0.7]]\n",
    "y_train=[0,0,0,0,0,1,1,1,1,1] #标签数据"
   ]
  },
  {
   "cell_type": "code",
   "execution_count": 59,
   "outputs": [],
   "source": [
    "x = np.array([1,3.5]) #预测数据"
   ],
   "metadata": {
    "collapsed": false
   }
  },
  {
   "cell_type": "code",
   "execution_count": 53,
   "outputs": [
    {
     "data": {
      "text/plain": "KNeighborsClassifier(algorithm='auto', leaf_size=30, metric='minkowski',\n           metric_params=None, n_jobs=1, n_neighbors=5, p=2,\n           weights='uniform')"
     },
     "execution_count": 53,
     "metadata": {},
     "output_type": "execute_result"
    }
   ],
   "source": [
    "from sklearn.neighbors import KNeighborsClassifier #导入K近邻算法模型\n",
    "knn_clf = KNeighborsClassifier()\n",
    "knn_clf"
   ],
   "metadata": {
    "collapsed": false
   }
  },
  {
   "cell_type": "markdown",
   "source": [
    "### 参数说明\n",
    "KNeighborsClassifier(algorithm='auto', leaf_size=30, metric='minkowski',\n",
    "           metric_params=None, n_jobs=1, n_neighbors=5, p=2,\n",
    "           weights='uniform')\n",
    "\n",
    "algorithm:{'auto','ball_tree','kd_tree','brute'}计算最近邻的方法，可根据需要自己选择。\n",
    "leaf_size: int，默认30，leaf size passed to BallTree or KDTree\n",
    "metric: str or DistanceMetric,默认'minKowski',使用距离矩阵，为了树。P值参考。\n",
    "metric_params：dict,默认None，添加键的分配为矩阵函数。\n",
    "n_jobs：工作使用内核。\n",
    "n_neighbors：int，默认5，默认邻居数量。\n",
    "P:int，默认2，P=1使用曼哈顿距离，P=2使用欧氏距离。\n",
    "weights：确定近邻的权重，'uniform'权重一样，'distance'指权重为距离的倒数，默认'uniform'，也可以自己定义函数确定权重的方式。\n",
    "\n",
    "\n",
    "\n",
    "欧拉距离、曼哈顿距离、明可夫斯基距离\n",
    "https://blog.csdn.net/dddxxxx/article/details/110455492\n",
    "\n",
    "其他距离：\n",
    "向量空间余弦相似度\n",
    "调整余弦相似度\n",
    "皮尔森相关系数\n",
    "Jaccard相似系数"
   ],
   "metadata": {
    "collapsed": false
   }
  },
  {
   "cell_type": "code",
   "execution_count": 54,
   "outputs": [
    {
     "data": {
      "text/plain": "KNeighborsClassifier(algorithm='auto', leaf_size=30, metric='minkowski',\n           metric_params=None, n_jobs=1, n_neighbors=6, p=2,\n           weights='uniform')"
     },
     "execution_count": 54,
     "metadata": {},
     "output_type": "execute_result"
    }
   ],
   "source": [
    "knn_clf = KNeighborsClassifier(n_neighbors=6) #创建算法模型\n",
    "knn_clf.fit(x_train,y_train)  #拟合或者称为训练\n",
    "# knn_clf.predict(x)\n",
    "knn_clf"
   ],
   "metadata": {
    "collapsed": false
   }
  },
  {
   "cell_type": "code",
   "execution_count": 55,
   "outputs": [
    {
     "data": {
      "text/plain": "array([8. , 3.3])"
     },
     "execution_count": 55,
     "metadata": {},
     "output_type": "execute_result"
    }
   ],
   "source": [
    "x"
   ],
   "metadata": {
    "collapsed": false
   }
  },
  {
   "cell_type": "code",
   "execution_count": 60,
   "outputs": [
    {
     "data": {
      "text/plain": "array([[1. , 3.5]])"
     },
     "execution_count": 60,
     "metadata": {},
     "output_type": "execute_result"
    }
   ],
   "source": [
    "x_predict = x.reshape(1,-1) #把预测的数据从一维变成二维矩阵\n",
    "x_predict"
   ],
   "metadata": {
    "collapsed": false
   }
  },
  {
   "cell_type": "code",
   "execution_count": 61,
   "outputs": [],
   "source": [
    "y_predict = knn_clf.predict(x_predict) #输出预测数据结果"
   ],
   "metadata": {
    "collapsed": false
   }
  },
  {
   "cell_type": "code",
   "execution_count": 62,
   "outputs": [
    {
     "data": {
      "text/plain": "array([0])"
     },
     "execution_count": 62,
     "metadata": {},
     "output_type": "execute_result"
    }
   ],
   "source": [
    "y_predict"
   ],
   "metadata": {
    "collapsed": false
   }
  },
  {
   "cell_type": "code",
   "execution_count": 67,
   "outputs": [
    {
     "data": {
      "text/plain": "array(['setosa', 'versicolor', 'virginica'], dtype='<U10')"
     },
     "execution_count": 67,
     "metadata": {},
     "output_type": "execute_result"
    }
   ],
   "source": [
    "from sklearn import datasets\n",
    "iris = datasets.load_iris()\n",
    "#print(iris.DESCR)\n",
    "data = iris.data\n",
    "target = iris.target\n",
    "target_names = iris.target_names\n",
    "target_names"
   ],
   "metadata": {
    "collapsed": false
   }
  }
 ],
 "metadata": {
  "kernelspec": {
   "display_name": "Python 3",
   "language": "python",
   "name": "python3"
  },
  "language_info": {
   "codemirror_mode": {
    "name": "ipython",
    "version": 2
   },
   "file_extension": ".py",
   "mimetype": "text/x-python",
   "name": "python",
   "nbconvert_exporter": "python",
   "pygments_lexer": "ipython2",
   "version": "2.7.6"
  }
 },
 "nbformat": 4,
 "nbformat_minor": 0
}
