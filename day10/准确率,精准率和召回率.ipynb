{
 "cells": [
  {
   "cell_type": "markdown",
   "source": [
    "# 数据收集和处理\n",
    "1.收集数据->数据清洗->特征工程->模型训练->模型验证->模型优化->上线部署\n",
    "2.收集数据：爬取数据(Python)、机台抛出来的数据、其他部门提供的数据、网上开源的数据\n",
    "3.清洗数据：数据为空、数据重复、数据其他垃圾数据....(噪声)\n",
    "4.数据分析：导入数据、查看数据、处理数据(分组、排序、组合)\n",
    "5.创建模型：背后的原理和模型的使用算法(回归->预测（一元回归、多元回归...）)、分类(近邻算法、分类标准)、聚类)\n",
    "6.训练模型->模型验证->模型优化\n",
    "7.涉及到的工具：anaconda、pycharm、numpy、pandas、matplotlib、各类算法"
   ],
   "metadata": {
    "collapsed": false
   }
  },
  {
   "cell_type": "markdown",
   "source": [
    "混淆矩阵\n",
    "![](预测图.png)"
   ],
   "metadata": {
    "collapsed": false
   }
  },
  {
   "cell_type": "code",
   "execution_count": null,
   "outputs": [],
   "source": [
    "# https://blog.csdn.net/PingBryant/article/details/115561777"
   ],
   "metadata": {
    "collapsed": false
   }
  },
  {
   "cell_type": "markdown",
   "source": [
    "准确率：(TN+TP)/(TN+FP+FN+TP)\n",
    "精准率：TP/(TP+FP)\n",
    "召回率：TP/(TP+FN)\n",
    "\n",
    "分类中模型的好坏主要看得分,回归中模型的好坏看误差\n",
    "## 回归\n",
    "https://www.jianshu.com/p/1ff7ae7ea9ef"
   ],
   "metadata": {
    "collapsed": false
   }
  },
  {
   "cell_type": "markdown",
   "source": [
    "回归损失函数\n",
    "MSE、MAE\n",
    "https://baijiahao.baidu.com/s?id=1603857666277651546&wfr=spider&for=pc"
   ],
   "metadata": {
    "collapsed": false
   }
  }
 ],
 "metadata": {
  "kernelspec": {
   "display_name": "Python 3",
   "language": "python",
   "name": "python3"
  },
  "language_info": {
   "codemirror_mode": {
    "name": "ipython",
    "version": 2
   },
   "file_extension": ".py",
   "mimetype": "text/x-python",
   "name": "python",
   "nbconvert_exporter": "python",
   "pygments_lexer": "ipython2",
   "version": "2.7.6"
  }
 },
 "nbformat": 4,
 "nbformat_minor": 0
}
